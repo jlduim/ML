{
 "cells": [
  {
   "cell_type": "markdown",
   "id": "3ac474d5",
   "metadata": {},
   "source": [
    "# Trabalho de Aprendizado de Máquinas"
   ]
  },
  {
   "cell_type": "markdown",
   "id": "426e0b24",
   "metadata": {},
   "source": [
    "## Aluno: João Lucas Duim"
   ]
  },
  {
   "cell_type": "code",
   "execution_count": 1,
   "id": "ba5b8318",
   "metadata": {},
   "outputs": [
    {
     "name": "stderr",
     "output_type": "stream",
     "text": [
      "\n",
      "Attaching package: 'dplyr'\n",
      "\n",
      "The following objects are masked from 'package:stats':\n",
      "\n",
      "    filter, lag\n",
      "\n",
      "The following objects are masked from 'package:base':\n",
      "\n",
      "    intersect, setdiff, setequal, union\n",
      "\n",
      "Registered S3 methods overwritten by 'ggplot2':\n",
      "  method         from \n",
      "  [.quosures     rlang\n",
      "  c.quosures     rlang\n",
      "  print.quosures rlang\n",
      "Warning message:\n",
      "\"package 'gridExtra' was built under R version 3.6.3\"\n",
      "Attaching package: 'gridExtra'\n",
      "\n",
      "The following object is masked from 'package:dplyr':\n",
      "\n",
      "    combine\n",
      "\n"
     ]
    }
   ],
   "source": [
    "library(dplyr)\n",
    "library(ggplot2)\n",
    "library(gridExtra)"
   ]
  },
  {
   "cell_type": "markdown",
   "id": "da8997a0",
   "metadata": {},
   "source": [
    "## 1. Introdução"
   ]
  },
  {
   "cell_type": "markdown",
   "id": "bb69fc2d",
   "metadata": {},
   "source": [
    "Carreguemos os dados que utilizaremos e vejamos um pouco de sua estrutura:"
   ]
  },
  {
   "cell_type": "code",
   "execution_count": 2,
   "id": "4befbe59",
   "metadata": {},
   "outputs": [
    {
     "name": "stdout",
     "output_type": "stream",
     "text": [
      "Observations: 8,645\n",
      "Variables: 16\n",
      "$ X          <int> 1, 2, 3, 4, 5, 6, 7, 8, 9, 10, 11, 12, 13, 14, 15, 16, 1...\n",
      "$ season     <int> 1, 1, 1, 1, 1, 1, 1, 1, 1, 1, 1, 1, 1, 1, 1, 1, 1, 1, 1,...\n",
      "$ mnth       <fct> Jan, Jan, Jan, Jan, Jan, Jan, Jan, Jan, Jan, Jan, Jan, J...\n",
      "$ day        <int> 1, 1, 1, 1, 1, 1, 1, 1, 1, 1, 1, 1, 1, 1, 1, 1, 1, 1, 1,...\n",
      "$ hr         <int> 0, 1, 2, 3, 4, 5, 6, 7, 8, 9, 10, 11, 12, 13, 14, 15, 16...\n",
      "$ holiday    <int> 0, 0, 0, 0, 0, 0, 0, 0, 0, 0, 0, 0, 0, 0, 0, 0, 0, 0, 0,...\n",
      "$ weekday    <int> 6, 6, 6, 6, 6, 6, 6, 6, 6, 6, 6, 6, 6, 6, 6, 6, 6, 6, 6,...\n",
      "$ workingday <int> 0, 0, 0, 0, 0, 0, 0, 0, 0, 0, 0, 0, 0, 0, 0, 0, 0, 0, 0,...\n",
      "$ weathersit <fct> clear, clear, clear, clear, clear, cloudy/misty, clear, ...\n",
      "$ temp       <dbl> 0.24, 0.22, 0.22, 0.24, 0.24, 0.24, 0.22, 0.20, 0.24, 0....\n",
      "$ atemp      <dbl> 0.2879, 0.2727, 0.2727, 0.2879, 0.2879, 0.2576, 0.2727, ...\n",
      "$ hum        <dbl> 0.81, 0.80, 0.80, 0.75, 0.75, 0.75, 0.80, 0.86, 0.75, 0....\n",
      "$ windspeed  <dbl> 0.0000, 0.0000, 0.0000, 0.0000, 0.0000, 0.0896, 0.0000, ...\n",
      "$ casual     <int> 3, 8, 5, 3, 0, 0, 2, 1, 1, 8, 12, 26, 29, 47, 35, 40, 41...\n",
      "$ registered <int> 13, 32, 27, 10, 1, 1, 0, 2, 7, 6, 24, 30, 55, 47, 71, 70...\n",
      "$ bikers     <int> 16, 40, 32, 13, 1, 1, 2, 3, 8, 14, 36, 56, 84, 94, 106, ...\n"
     ]
    }
   ],
   "source": [
    "bikeshare = read.csv(\"Bikeshare.csv\") # Lê os dados\n",
    "\n",
    "glimpse(bikeshare) # Apresenta as dimensões do dataset, além de nome, tipo e os primeiros valores das variáveis "
   ]
  },
  {
   "cell_type": "markdown",
   "id": "bfe22edd",
   "metadata": {},
   "source": [
    "Os dados a serem analisados são do sistema de bicicletas compartilhadas de Washington DC ao longo de $1$ ano. Os ciclistas podem alugar bicicletas de um local e retorná-las em um local diferente. Os dados foram obtidos através do [website](https://www.statlearning.com/resources-second-edition) do livro \"An Introduction to Statistical Learning\". Vejamos as primeiras linhas do dataset:"
   ]
  },
  {
   "cell_type": "code",
   "execution_count": 3,
   "id": "96eda4cf",
   "metadata": {},
   "outputs": [
    {
     "data": {
      "text/html": [
       "<table>\n",
       "<thead><tr><th scope=col>X</th><th scope=col>season</th><th scope=col>mnth</th><th scope=col>day</th><th scope=col>hr</th><th scope=col>holiday</th><th scope=col>weekday</th><th scope=col>workingday</th><th scope=col>weathersit</th><th scope=col>temp</th><th scope=col>atemp</th><th scope=col>hum</th><th scope=col>windspeed</th><th scope=col>casual</th><th scope=col>registered</th><th scope=col>bikers</th></tr></thead>\n",
       "<tbody>\n",
       "\t<tr><td>1           </td><td>1           </td><td>Jan         </td><td>1           </td><td>0           </td><td>0           </td><td>6           </td><td>0           </td><td>clear       </td><td>0.24        </td><td>0.2879      </td><td>0.81        </td><td>0.0000      </td><td>3           </td><td>13          </td><td>16          </td></tr>\n",
       "\t<tr><td>2           </td><td>1           </td><td>Jan         </td><td>1           </td><td>1           </td><td>0           </td><td>6           </td><td>0           </td><td>clear       </td><td>0.22        </td><td>0.2727      </td><td>0.80        </td><td>0.0000      </td><td>8           </td><td>32          </td><td>40          </td></tr>\n",
       "\t<tr><td>3           </td><td>1           </td><td>Jan         </td><td>1           </td><td>2           </td><td>0           </td><td>6           </td><td>0           </td><td>clear       </td><td>0.22        </td><td>0.2727      </td><td>0.80        </td><td>0.0000      </td><td>5           </td><td>27          </td><td>32          </td></tr>\n",
       "\t<tr><td>4           </td><td>1           </td><td>Jan         </td><td>1           </td><td>3           </td><td>0           </td><td>6           </td><td>0           </td><td>clear       </td><td>0.24        </td><td>0.2879      </td><td>0.75        </td><td>0.0000      </td><td>3           </td><td>10          </td><td>13          </td></tr>\n",
       "\t<tr><td>5           </td><td>1           </td><td>Jan         </td><td>1           </td><td>4           </td><td>0           </td><td>6           </td><td>0           </td><td>clear       </td><td>0.24        </td><td>0.2879      </td><td>0.75        </td><td>0.0000      </td><td>0           </td><td> 1          </td><td> 1          </td></tr>\n",
       "\t<tr><td>6           </td><td>1           </td><td>Jan         </td><td>1           </td><td>5           </td><td>0           </td><td>6           </td><td>0           </td><td>cloudy/misty</td><td>0.24        </td><td>0.2576      </td><td>0.75        </td><td>0.0896      </td><td>0           </td><td> 1          </td><td> 1          </td></tr>\n",
       "</tbody>\n",
       "</table>\n"
      ],
      "text/latex": [
       "\\begin{tabular}{r|llllllllllllllll}\n",
       " X & season & mnth & day & hr & holiday & weekday & workingday & weathersit & temp & atemp & hum & windspeed & casual & registered & bikers\\\\\n",
       "\\hline\n",
       "\t 1            & 1            & Jan          & 1            & 0            & 0            & 6            & 0            & clear        & 0.24         & 0.2879       & 0.81         & 0.0000       & 3            & 13           & 16          \\\\\n",
       "\t 2            & 1            & Jan          & 1            & 1            & 0            & 6            & 0            & clear        & 0.22         & 0.2727       & 0.80         & 0.0000       & 8            & 32           & 40          \\\\\n",
       "\t 3            & 1            & Jan          & 1            & 2            & 0            & 6            & 0            & clear        & 0.22         & 0.2727       & 0.80         & 0.0000       & 5            & 27           & 32          \\\\\n",
       "\t 4            & 1            & Jan          & 1            & 3            & 0            & 6            & 0            & clear        & 0.24         & 0.2879       & 0.75         & 0.0000       & 3            & 10           & 13          \\\\\n",
       "\t 5            & 1            & Jan          & 1            & 4            & 0            & 6            & 0            & clear        & 0.24         & 0.2879       & 0.75         & 0.0000       & 0            &  1           &  1          \\\\\n",
       "\t 6            & 1            & Jan          & 1            & 5            & 0            & 6            & 0            & cloudy/misty & 0.24         & 0.2576       & 0.75         & 0.0896       & 0            &  1           &  1          \\\\\n",
       "\\end{tabular}\n"
      ],
      "text/markdown": [
       "\n",
       "| X | season | mnth | day | hr | holiday | weekday | workingday | weathersit | temp | atemp | hum | windspeed | casual | registered | bikers |\n",
       "|---|---|---|---|---|---|---|---|---|---|---|---|---|---|---|---|\n",
       "| 1            | 1            | Jan          | 1            | 0            | 0            | 6            | 0            | clear        | 0.24         | 0.2879       | 0.81         | 0.0000       | 3            | 13           | 16           |\n",
       "| 2            | 1            | Jan          | 1            | 1            | 0            | 6            | 0            | clear        | 0.22         | 0.2727       | 0.80         | 0.0000       | 8            | 32           | 40           |\n",
       "| 3            | 1            | Jan          | 1            | 2            | 0            | 6            | 0            | clear        | 0.22         | 0.2727       | 0.80         | 0.0000       | 5            | 27           | 32           |\n",
       "| 4            | 1            | Jan          | 1            | 3            | 0            | 6            | 0            | clear        | 0.24         | 0.2879       | 0.75         | 0.0000       | 3            | 10           | 13           |\n",
       "| 5            | 1            | Jan          | 1            | 4            | 0            | 6            | 0            | clear        | 0.24         | 0.2879       | 0.75         | 0.0000       | 0            |  1           |  1           |\n",
       "| 6            | 1            | Jan          | 1            | 5            | 0            | 6            | 0            | cloudy/misty | 0.24         | 0.2576       | 0.75         | 0.0896       | 0            |  1           |  1           |\n",
       "\n"
      ],
      "text/plain": [
       "  X season mnth day hr holiday weekday workingday weathersit   temp atemp  hum \n",
       "1 1 1      Jan  1   0  0       6       0          clear        0.24 0.2879 0.81\n",
       "2 2 1      Jan  1   1  0       6       0          clear        0.22 0.2727 0.80\n",
       "3 3 1      Jan  1   2  0       6       0          clear        0.22 0.2727 0.80\n",
       "4 4 1      Jan  1   3  0       6       0          clear        0.24 0.2879 0.75\n",
       "5 5 1      Jan  1   4  0       6       0          clear        0.24 0.2879 0.75\n",
       "6 6 1      Jan  1   5  0       6       0          cloudy/misty 0.24 0.2576 0.75\n",
       "  windspeed casual registered bikers\n",
       "1 0.0000    3      13         16    \n",
       "2 0.0000    8      32         40    \n",
       "3 0.0000    5      27         32    \n",
       "4 0.0000    3      10         13    \n",
       "5 0.0000    0       1          1    \n",
       "6 0.0896    0       1          1    "
      ]
     },
     "metadata": {},
     "output_type": "display_data"
    }
   ],
   "source": [
    "head(bikeshare) # Apresenta as primeiras linhas do dataset"
   ]
  },
  {
   "cell_type": "markdown",
   "id": "027de69d",
   "metadata": {},
   "source": [
    "A variável \"season\" está codificada com $1$, $2$, $3$ e $4$ representando, respectivamente, o inverno, primavera, verão e outono. São registrados os dias (\"day\") do ano de $1$ a $365$, classificados por mês (\"mnth\"), dia da semana (\"weekday\"), se é feriado (\"holiday\" = $1$) ou não (\"holiday\" = $0$) e se é dia útil (\"workingday\" = $1$) ou não (\"workingday\" = $0$). Estão presentes a condição atmosférica (\"weathersit\"), a temperatura normalizada (\"temp\"), a sensação térmica normalizada (\"atemp\"), a umidade do ar (\"hum\") e a velocidade do vento normalizada (\"windspeed\"). As normalizações referidas são tais que o valor mínimo passa a ser $0$ e o valor máximo passa a ser $1$. Existem dois tipos de usuários: usuários casuais (\"casual\"), que alugam a bicicleta por uma taxa única, e usuários registrados (\"registered\"), que pagam uma taxa de associação anual em troca do aluguel ilimitado de bicicletas. Assim, o total de ciclistas (\"bikers\") é dado pela soma de usuários casuais com usuários registrados (\"bikers\" = \"casual\" + \"registered\"). As medições foram feitas por hora (\"hr\")."
   ]
  },
  {
   "cell_type": "markdown",
   "id": "db5c40ca",
   "metadata": {},
   "source": [
    "## 2. Verificação de limpeza"
   ]
  },
  {
   "cell_type": "markdown",
   "id": "69b7eaee",
   "metadata": {},
   "source": [
    "A seguir, verificaremos se há alguma observação incompleta no dataset:"
   ]
  },
  {
   "cell_type": "code",
   "execution_count": 4,
   "id": "9c0a5bad",
   "metadata": {},
   "outputs": [
    {
     "data": {
      "text/html": [
       "FALSE"
      ],
      "text/latex": [
       "FALSE"
      ],
      "text/markdown": [
       "FALSE"
      ],
      "text/plain": [
       "[1] FALSE"
      ]
     },
     "metadata": {},
     "output_type": "display_data"
    }
   ],
   "source": [
    "is.null(bikeshare) # Confere se há algum dado null"
   ]
  },
  {
   "cell_type": "code",
   "execution_count": 5,
   "id": "e31aa987",
   "metadata": {},
   "outputs": [
    {
     "data": {
      "text/plain": [
       "     X             season           mnth            day         \n",
       " Mode :logical   Mode :logical   Mode :logical   Mode :logical  \n",
       " FALSE:8645      FALSE:8645      FALSE:8645      FALSE:8645     \n",
       "     hr           holiday         weekday        workingday     \n",
       " Mode :logical   Mode :logical   Mode :logical   Mode :logical  \n",
       " FALSE:8645      FALSE:8645      FALSE:8645      FALSE:8645     \n",
       " weathersit         temp           atemp            hum         \n",
       " Mode :logical   Mode :logical   Mode :logical   Mode :logical  \n",
       " FALSE:8645      FALSE:8645      FALSE:8645      FALSE:8645     \n",
       " windspeed         casual        registered        bikers       \n",
       " Mode :logical   Mode :logical   Mode :logical   Mode :logical  \n",
       " FALSE:8645      FALSE:8645      FALSE:8645      FALSE:8645     "
      ]
     },
     "metadata": {},
     "output_type": "display_data"
    }
   ],
   "source": [
    "summary(is.na(bikeshare)) # Confere se há algum dado NA"
   ]
  },
  {
   "cell_type": "markdown",
   "id": "625f94d7",
   "metadata": {},
   "source": [
    "Logo, o dataset está limpo e pronto para ser analisado."
   ]
  },
  {
   "cell_type": "markdown",
   "id": "670515df",
   "metadata": {},
   "source": [
    "## 3. Análise Exploratória"
   ]
  },
  {
   "cell_type": "markdown",
   "id": "3dfeba28",
   "metadata": {},
   "source": [
    "Agora, faremos uma análise exploratória dos dados em questão a fim de compreender melhor as informações que eles carregam."
   ]
  },
  {
   "cell_type": "markdown",
   "id": "0fda152c",
   "metadata": {},
   "source": [
    "Para começar, veremos resumos de medidas sobre as variáveis que quantificam os usuários do serviço:"
   ]
  },
  {
   "cell_type": "code",
   "execution_count": 6,
   "id": "da0928e4",
   "metadata": {},
   "outputs": [
    {
     "data": {
      "text/plain": [
       "   Min. 1st Qu.  Median    Mean 3rd Qu.    Max. \n",
       "    0.0     3.0    14.0    28.6    38.0   272.0 "
      ]
     },
     "metadata": {},
     "output_type": "display_data"
    }
   ],
   "source": [
    "summary(bikeshare$casual) # Apresenta um resumo de medidas a respeito da variável casual"
   ]
  },
  {
   "cell_type": "code",
   "execution_count": 7,
   "id": "0f7065f0",
   "metadata": {},
   "outputs": [
    {
     "data": {
      "text/plain": [
       "   Min. 1st Qu.  Median    Mean 3rd Qu.    Max. \n",
       "    0.0    26.0    90.0   115.2   168.0   567.0 "
      ]
     },
     "metadata": {},
     "output_type": "display_data"
    }
   ],
   "source": [
    "summary(bikeshare$registered) # Apresenta um resumo de medidas a respeito da variável registered"
   ]
  },
  {
   "cell_type": "code",
   "execution_count": 8,
   "id": "4d904d33",
   "metadata": {},
   "outputs": [
    {
     "data": {
      "text/plain": [
       "   Min. 1st Qu.  Median    Mean 3rd Qu.    Max. \n",
       "    1.0    31.0   109.0   143.8   211.0   651.0 "
      ]
     },
     "metadata": {},
     "output_type": "display_data"
    }
   ],
   "source": [
    "summary(bikeshare$bikers) # Apresenta um resumo de medidas a respeito da variável bikers"
   ]
  },
  {
   "cell_type": "markdown",
   "id": "b4cc1f90",
   "metadata": {},
   "source": [
    "Para facilitar a compreensão e comparação dessas medidas, veja os boxplots a seguir:"
   ]
  },
  {
   "cell_type": "code",
   "execution_count": 9,
   "id": "b004db22",
   "metadata": {},
   "outputs": [
    {
     "data": {
      "image/png": "[encoded data removed]",
      "text/plain": [
       "plot without title"
      ]
     },
     "metadata": {},
     "output_type": "display_data"
    }
   ],
   "source": [
    "# Apresenta 3 boxplots lado a lado\n",
    "p1 <- ggplot(bikeshare) + geom_boxplot(aes(y=casual))\n",
    "p2 <- ggplot(bikeshare) + geom_boxplot(aes(y=registered))\n",
    "p3 <- ggplot(bikeshare) + geom_boxplot(aes(y=bikers))\n",
    "grid.arrange(p1, p2, p3, nrow = 1)"
   ]
  },
  {
   "cell_type": "markdown",
   "id": "422b36d6",
   "metadata": {},
   "source": [
    "Podemos ver desses gráficos que o número de clientes registrados costuma ser significativamente maior que o de clientes casuais."
   ]
  },
  {
   "cell_type": "markdown",
   "id": "25816109",
   "metadata": {},
   "source": [
    "Analisemos, então, parte dos dados agrupados por dia e por mês."
   ]
  },
  {
   "cell_type": "code",
   "execution_count": 10,
   "id": "d2b11320",
   "metadata": {},
   "outputs": [],
   "source": [
    "# Recria o dataset agrupando as medições para se ter um panorama geral diário\n",
    "bikeshare_by_day <- bikeshare %>%\n",
    "    group_by(day) %>% \n",
    "    summarise(temp=mean(temp),\n",
    "        atemp=mean(atemp),\n",
    "        hum=mean(hum),\n",
    "        windspeed=mean(windspeed),\n",
    "        bikers=sum(bikers)) "
   ]
  },
  {
   "cell_type": "code",
   "execution_count": 11,
   "id": "26b8ebf9",
   "metadata": {},
   "outputs": [
    {
     "data": {
      "text/html": [
       "<table>\n",
       "<thead><tr><th scope=col>day</th><th scope=col>temp</th><th scope=col>atemp</th><th scope=col>hum</th><th scope=col>windspeed</th><th scope=col>bikers</th></tr></thead>\n",
       "<tbody>\n",
       "\t<tr><td>1         </td><td>0.3441667 </td><td>0.3636250 </td><td>0.8058333 </td><td>0.16044583</td><td> 985      </td></tr>\n",
       "\t<tr><td>2         </td><td>0.3634783 </td><td>0.3537391 </td><td>0.6960870 </td><td>0.24853913</td><td> 801      </td></tr>\n",
       "\t<tr><td>3         </td><td>0.1963636 </td><td>0.1894045 </td><td>0.4372727 </td><td>0.24830909</td><td>1349      </td></tr>\n",
       "\t<tr><td>4         </td><td>0.2000000 </td><td>0.2121217 </td><td>0.5904348 </td><td>0.16029565</td><td>1562      </td></tr>\n",
       "\t<tr><td>5         </td><td>0.2269565 </td><td>0.2292696 </td><td>0.4369565 </td><td>0.18690000</td><td>1600      </td></tr>\n",
       "\t<tr><td>6         </td><td>0.2043478 </td><td>0.2332087 </td><td>0.5182609 </td><td>0.08956522</td><td>1606      </td></tr>\n",
       "</tbody>\n",
       "</table>\n"
      ],
      "text/latex": [
       "\\begin{tabular}{r|llllll}\n",
       " day & temp & atemp & hum & windspeed & bikers\\\\\n",
       "\\hline\n",
       "\t 1          & 0.3441667  & 0.3636250  & 0.8058333  & 0.16044583 &  985      \\\\\n",
       "\t 2          & 0.3634783  & 0.3537391  & 0.6960870  & 0.24853913 &  801      \\\\\n",
       "\t 3          & 0.1963636  & 0.1894045  & 0.4372727  & 0.24830909 & 1349      \\\\\n",
       "\t 4          & 0.2000000  & 0.2121217  & 0.5904348  & 0.16029565 & 1562      \\\\\n",
       "\t 5          & 0.2269565  & 0.2292696  & 0.4369565  & 0.18690000 & 1600      \\\\\n",
       "\t 6          & 0.2043478  & 0.2332087  & 0.5182609  & 0.08956522 & 1606      \\\\\n",
       "\\end{tabular}\n"
      ],
      "text/markdown": [
       "\n",
       "| day | temp | atemp | hum | windspeed | bikers |\n",
       "|---|---|---|---|---|---|\n",
       "| 1          | 0.3441667  | 0.3636250  | 0.8058333  | 0.16044583 |  985       |\n",
       "| 2          | 0.3634783  | 0.3537391  | 0.6960870  | 0.24853913 |  801       |\n",
       "| 3          | 0.1963636  | 0.1894045  | 0.4372727  | 0.24830909 | 1349       |\n",
       "| 4          | 0.2000000  | 0.2121217  | 0.5904348  | 0.16029565 | 1562       |\n",
       "| 5          | 0.2269565  | 0.2292696  | 0.4369565  | 0.18690000 | 1600       |\n",
       "| 6          | 0.2043478  | 0.2332087  | 0.5182609  | 0.08956522 | 1606       |\n",
       "\n"
      ],
      "text/plain": [
       "  day temp      atemp     hum       windspeed  bikers\n",
       "1 1   0.3441667 0.3636250 0.8058333 0.16044583  985  \n",
       "2 2   0.3634783 0.3537391 0.6960870 0.24853913  801  \n",
       "3 3   0.1963636 0.1894045 0.4372727 0.24830909 1349  \n",
       "4 4   0.2000000 0.2121217 0.5904348 0.16029565 1562  \n",
       "5 5   0.2269565 0.2292696 0.4369565 0.18690000 1600  \n",
       "6 6   0.2043478 0.2332087 0.5182609 0.08956522 1606  "
      ]
     },
     "metadata": {},
     "output_type": "display_data"
    }
   ],
   "source": [
    "head(bikeshare_by_day) # Apresenta as primeiras linhas do dataset"
   ]
  },
  {
   "cell_type": "markdown",
   "id": "e922d5d6",
   "metadata": {},
   "source": [
    "No gráfico a seguir, visualizamos o número total de ciclistas por temperatura média diária em cada observação."
   ]
  },
  {
   "cell_type": "code",
   "execution_count": 12,
   "id": "8e6f7207",
   "metadata": {
    "scrolled": false
   },
   "outputs": [
    {
     "data": {
      "image/png": "[encoded data removed]",
      "text/plain": [
       "plot without title"
      ]
     },
     "metadata": {},
     "output_type": "display_data"
    }
   ],
   "source": [
    "# Apresenta um gráfico de dispersão do número de ciclistas por temperatura\n",
    "ggplot(bikeshare_by_day) +\n",
    "    aes(y=bikers,x=temp) +\n",
    "    geom_point(color=\"red\") +\n",
    "    labs(x=\"Temp\",\n",
    "        y=\"Bikers\")"
   ]
  },
  {
   "cell_type": "markdown",
   "id": "00b59d30",
   "metadata": {},
   "source": [
    "Aparentemente, existe uma tendência de se ter mais ciclistas quando o dia está mais quente."
   ]
  },
  {
   "cell_type": "markdown",
   "id": "fd5ec67d",
   "metadata": {},
   "source": [
    "No gráfico a seguir, visualizamos o número total de ciclistas por sensação térmica média diária em cada observação."
   ]
  },
  {
   "cell_type": "code",
   "execution_count": 13,
   "id": "24bf8a71",
   "metadata": {
    "scrolled": false
   },
   "outputs": [
    {
     "data": {
      "image/png": "[encoded data removed]",
      "text/plain": [
       "plot without title"
      ]
     },
     "metadata": {},
     "output_type": "display_data"
    }
   ],
   "source": [
    "# Apresenta um gráfico de dispersão do número de ciclistas por sensação térmica\n",
    "ggplot(bikeshare_by_day) +\n",
    "    aes(y=bikers,x=atemp) +\n",
    "    geom_point(color=\"orange\") +\n",
    "    labs(x=\"Atemp\",\n",
    "        y=\"Bikers\")"
   ]
  },
  {
   "cell_type": "markdown",
   "id": "d3d59a0a",
   "metadata": {},
   "source": [
    "Aparentemente, existe uma tendência de se ter mais ciclistas quando se tem a sensação de o dia estar mais quente."
   ]
  },
  {
   "cell_type": "markdown",
   "id": "94712884",
   "metadata": {},
   "source": [
    "No gráfico a seguir, visualizamos o número total de ciclistas por umidade do ar média diária em cada observação."
   ]
  },
  {
   "cell_type": "code",
   "execution_count": 14,
   "id": "736c0bad",
   "metadata": {},
   "outputs": [
    {
     "data": {
      "image/png": "[encoded data removed]",
      "text/plain": [
       "plot without title"
      ]
     },
     "metadata": {},
     "output_type": "display_data"
    }
   ],
   "source": [
    "# Apresenta um gráfico de dispersão do número de ciclistas por umidade\n",
    "ggplot(bikeshare_by_day) +\n",
    "    aes(y=bikers,x=hum) +\n",
    "    geom_point(color=\"blue\") +\n",
    "    labs(x=\"Hum\",\n",
    "        y=\"Bikers\")"
   ]
  },
  {
   "cell_type": "markdown",
   "id": "3dcf687b",
   "metadata": {},
   "source": [
    "Aparentemente, a umidade do ar não tem uma influência clara, à primeira vista, sobre a quantidade de ciclistas."
   ]
  },
  {
   "cell_type": "markdown",
   "id": "95e81feb",
   "metadata": {},
   "source": [
    "No gráfico a seguir, visualizamos o número total de ciclistas por velocidade do vento média diária em cada observação."
   ]
  },
  {
   "cell_type": "code",
   "execution_count": 15,
   "id": "d897081f",
   "metadata": {
    "scrolled": false
   },
   "outputs": [
    {
     "data": {
      "image/png": "[encoded data removed]",
      "text/plain": [
       "plot without title"
      ]
     },
     "metadata": {},
     "output_type": "display_data"
    }
   ],
   "source": [
    "# Apresenta um gráfico de dispersão do número de ciclistas por velocidade do vento\n",
    "ggplot(bikeshare_by_day) +\n",
    "    aes(y=bikers,x=windspeed) +\n",
    "    geom_point(color=\"darkgray\") +\n",
    "    labs(x=\"Windspeed\",\n",
    "        y=\"Bikers\")"
   ]
  },
  {
   "cell_type": "markdown",
   "id": "32f04725",
   "metadata": {},
   "source": [
    "Aparentemente, a velocidade do vento também não tem uma influência clara, à primeira vista, sobre a quantidade de ciclistas."
   ]
  },
  {
   "cell_type": "code",
   "execution_count": 16,
   "id": "7325bce6",
   "metadata": {},
   "outputs": [],
   "source": [
    "# Recria o dataset agrupando as medições para se ter um panorama geral mensal\n",
    "bikeshare_by_mnth <- bikeshare %>%\n",
    "    group_by(mnth) %>% \n",
    "    summarise(temp=mean(temp),\n",
    "        atemp=mean(atemp),\n",
    "        hum=mean(hum),\n",
    "        windspeed=mean(windspeed),\n",
    "        bikers=sum(bikers)) "
   ]
  },
  {
   "cell_type": "code",
   "execution_count": 17,
   "id": "34562436",
   "metadata": {},
   "outputs": [
    {
     "data": {
      "text/html": [
       "<table>\n",
       "<thead><tr><th scope=col>mnth</th><th scope=col>temp</th><th scope=col>atemp</th><th scope=col>hum</th><th scope=col>windspeed</th><th scope=col>bikers</th></tr></thead>\n",
       "<tbody>\n",
       "\t<tr><td>April    </td><td>0.4710153</td><td>0.4566241</td><td>0.6682197</td><td>0.2441047</td><td> 94870   </td></tr>\n",
       "\t<tr><td>Aug      </td><td>0.7055540</td><td>0.6556495</td><td>0.6256224</td><td>0.1881119</td><td>136691   </td></tr>\n",
       "\t<tr><td>Dec      </td><td>0.3252901</td><td>0.3300323</td><td>0.6495277</td><td>0.1677912</td><td> 87323   </td></tr>\n",
       "\t<tr><td>Feb      </td><td>0.2839753</td><td>0.2857296</td><td>0.5597072</td><td>0.2294513</td><td> 48215   </td></tr>\n",
       "\t<tr><td>Jan      </td><td>0.1974128</td><td>0.2037578</td><td>0.5740552</td><td>0.1974850</td><td> 38189   </td></tr>\n",
       "\t<tr><td>July     </td><td>0.7585753</td><td>0.7106602</td><td>0.5896640</td><td>0.1716675</td><td>141341   </td></tr>\n",
       "</tbody>\n",
       "</table>\n"
      ],
      "text/latex": [
       "\\begin{tabular}{r|llllll}\n",
       " mnth & temp & atemp & hum & windspeed & bikers\\\\\n",
       "\\hline\n",
       "\t April     & 0.4710153 & 0.4566241 & 0.6682197 & 0.2441047 &  94870   \\\\\n",
       "\t Aug       & 0.7055540 & 0.6556495 & 0.6256224 & 0.1881119 & 136691   \\\\\n",
       "\t Dec       & 0.3252901 & 0.3300323 & 0.6495277 & 0.1677912 &  87323   \\\\\n",
       "\t Feb       & 0.2839753 & 0.2857296 & 0.5597072 & 0.2294513 &  48215   \\\\\n",
       "\t Jan       & 0.1974128 & 0.2037578 & 0.5740552 & 0.1974850 &  38189   \\\\\n",
       "\t July      & 0.7585753 & 0.7106602 & 0.5896640 & 0.1716675 & 141341   \\\\\n",
       "\\end{tabular}\n"
      ],
      "text/markdown": [
       "\n",
       "| mnth | temp | atemp | hum | windspeed | bikers |\n",
       "|---|---|---|---|---|---|\n",
       "| April     | 0.4710153 | 0.4566241 | 0.6682197 | 0.2441047 |  94870    |\n",
       "| Aug       | 0.7055540 | 0.6556495 | 0.6256224 | 0.1881119 | 136691    |\n",
       "| Dec       | 0.3252901 | 0.3300323 | 0.6495277 | 0.1677912 |  87323    |\n",
       "| Feb       | 0.2839753 | 0.2857296 | 0.5597072 | 0.2294513 |  48215    |\n",
       "| Jan       | 0.1974128 | 0.2037578 | 0.5740552 | 0.1974850 |  38189    |\n",
       "| July      | 0.7585753 | 0.7106602 | 0.5896640 | 0.1716675 | 141341    |\n",
       "\n"
      ],
      "text/plain": [
       "  mnth  temp      atemp     hum       windspeed bikers\n",
       "1 April 0.4710153 0.4566241 0.6682197 0.2441047  94870\n",
       "2 Aug   0.7055540 0.6556495 0.6256224 0.1881119 136691\n",
       "3 Dec   0.3252901 0.3300323 0.6495277 0.1677912  87323\n",
       "4 Feb   0.2839753 0.2857296 0.5597072 0.2294513  48215\n",
       "5 Jan   0.1974128 0.2037578 0.5740552 0.1974850  38189\n",
       "6 July  0.7585753 0.7106602 0.5896640 0.1716675 141341"
      ]
     },
     "metadata": {},
     "output_type": "display_data"
    }
   ],
   "source": [
    "head(bikeshare_by_mnth) # Apresenta as primeiras linhas do dataset"
   ]
  },
  {
   "cell_type": "markdown",
   "id": "4e3346a5",
   "metadata": {},
   "source": [
    "No gráfico a seguir, visualizamos o número total de ciclistas por temperatura média mensal em cada observação."
   ]
  },
  {
   "cell_type": "code",
   "execution_count": 18,
   "id": "af9f0f9b",
   "metadata": {},
   "outputs": [
    {
     "data": {
      "image/png": "[encoded data removed]",
      "text/plain": [
       "plot without title"
      ]
     },
     "metadata": {},
     "output_type": "display_data"
    }
   ],
   "source": [
    "# Apresenta um gráfico de dispersão do número de ciclistas por temperatura\n",
    "ggplot(bikeshare_by_mnth) +\n",
    "    aes(y=bikers,x=temp) +\n",
    "    geom_point(color=\"red\") +\n",
    "    labs(x=\"Temp\",\n",
    "        y=\"Bikers\")"
   ]
  },
  {
   "cell_type": "markdown",
   "id": "60f605b9",
   "metadata": {},
   "source": [
    "Aparentemente, a relação entre a temperatura média mensal e o número total de ciclistas é aproximadamente linear."
   ]
  },
  {
   "cell_type": "markdown",
   "id": "67c4269e",
   "metadata": {},
   "source": [
    "No gráfico a seguir, visualizamos o número total de ciclistas por sensação térmica média mensal em cada observação."
   ]
  },
  {
   "cell_type": "code",
   "execution_count": 19,
   "id": "04c146c7",
   "metadata": {},
   "outputs": [
    {
     "data": {
      "image/png": "[encoded data removed]",
      "text/plain": [
       "plot without title"
      ]
     },
     "metadata": {},
     "output_type": "display_data"
    }
   ],
   "source": [
    "# Apresenta um gráfico de dispersão do número de ciclistas por sensação térmica\n",
    "ggplot(bikeshare_by_mnth) +\n",
    "    aes(y=bikers,x=atemp) +\n",
    "    geom_point(color=\"orange\") +\n",
    "    labs(x=\"Atemp\",\n",
    "        y=\"Bikers\")"
   ]
  },
  {
   "cell_type": "markdown",
   "id": "6ca2f825",
   "metadata": {},
   "source": [
    "Aparentemente, a relação entre a sensação térmica média mensal e o número total de ciclistas também é aproximadamente linear."
   ]
  },
  {
   "cell_type": "markdown",
   "id": "2abb4969",
   "metadata": {},
   "source": [
    "No gráfico a seguir, visualizamos o número total de ciclistas por umidade do ar média mensal em cada observação."
   ]
  },
  {
   "cell_type": "code",
   "execution_count": 20,
   "id": "7f2c454b",
   "metadata": {},
   "outputs": [
    {
     "data": {
      "image/png": "[encoded data removed]",
      "text/plain": [
       "plot without title"
      ]
     },
     "metadata": {},
     "output_type": "display_data"
    }
   ],
   "source": [
    "# Apresenta um gráfico de dispersão do número de ciclistas por umidade do ar\n",
    "ggplot(bikeshare_by_mnth) +\n",
    "    aes(y=bikers,x=hum) +\n",
    "    geom_point(color=\"blue\") +\n",
    "    labs(x=\"Hum\",\n",
    "        y=\"Bikers\")"
   ]
  },
  {
   "cell_type": "markdown",
   "id": "1a966c4a",
   "metadata": {},
   "source": [
    "Aparentemente, a correlação entre a umidade do ar média mensal e o número total de ciclistas é positiva."
   ]
  },
  {
   "cell_type": "markdown",
   "id": "20e53e5a",
   "metadata": {},
   "source": [
    "No gráfico a seguir, visualizamos o número total de ciclistas por velocidade do vento média mensal em cada observação."
   ]
  },
  {
   "cell_type": "code",
   "execution_count": 21,
   "id": "6ff94c5b",
   "metadata": {
    "scrolled": false
   },
   "outputs": [
    {
     "data": {
      "image/png": "[encoded data removed]",
      "text/plain": [
       "plot without title"
      ]
     },
     "metadata": {},
     "output_type": "display_data"
    }
   ],
   "source": [
    "# Apresenta um gráfico de dispersão do número de ciclistas por velocidade do vento\n",
    "ggplot(bikeshare_by_mnth) +\n",
    "    aes(y=bikers,x=windspeed) +\n",
    "    geom_point(color=\"darkgray\") +\n",
    "    labs(x=\"Windspeed\",\n",
    "        y=\"Bikers\")"
   ]
  },
  {
   "cell_type": "markdown",
   "id": "44e32fee",
   "metadata": {},
   "source": [
    "Aparentemente, a correlação entre a velocidade do vento média mensal e o número total de ciclistas é negativa."
   ]
  },
  {
   "cell_type": "markdown",
   "id": "0065f7e0",
   "metadata": {},
   "source": [
    "Agora, exploraremos informações a respeito da influência da estação do ano na quantidade de ciclistas. Para isso, veja o boxplot a seguir:"
   ]
  },
  {
   "cell_type": "code",
   "execution_count": 22,
   "id": "58fe76de",
   "metadata": {},
   "outputs": [
    {
     "data": {
      "image/png": "[encoded data removed]",
      "text/plain": [
       "plot without title"
      ]
     },
     "metadata": {},
     "output_type": "display_data"
    }
   ],
   "source": [
    "# Apresenta um boxplot do número de ciclistas por estação do ano\n",
    "ggplot(bikeshare, aes(x = season, y = bikers, fill = factor(season))) +\n",
    "    geom_boxplot(outlier.color = adjustcolor(\"black\", alpha.f = 0), na.rm = TRUE) +\n",
    "    xlab(\"Season\") +\n",
    "    ylab(\"Bikers\") +\n",
    "    ggtitle(\"\\n\") +\n",
    "    scale_fill_manual(values = c(\"#D6EAF8\", \"#2ECC71\", \"#E74C3C\", \"#F39C12\"), \n",
    "        name=\"Season:\",\n",
    "        breaks=c(1, 2, 3, 4),\n",
    "        labels=c(\"Inverno\", \"Primavera\", \"Verão\", \"Outono\"))"
   ]
  },
  {
   "cell_type": "markdown",
   "id": "58dbf00f",
   "metadata": {},
   "source": [
    "Note, como esperado, que as estações mais quentes parecem atrair mais ciclistas que no inverno."
   ]
  },
  {
   "cell_type": "markdown",
   "id": "4045ea19",
   "metadata": {},
   "source": [
    "Vamos analisar um boxplot do número de ciclistas por condição atmosférica:"
   ]
  },
  {
   "cell_type": "code",
   "execution_count": 23,
   "id": "d52ec898",
   "metadata": {},
   "outputs": [
    {
     "data": {
      "image/png": "[encoded data removed]",
      "text/plain": [
       "plot without title"
      ]
     },
     "metadata": {},
     "output_type": "display_data"
    }
   ],
   "source": [
    "# Apresenta um boxplot do número de ciclistas por condição atmosférica\n",
    "ggplot(bikeshare, aes(x = weathersit, y = bikers, fill = weathersit)) +\n",
    "    geom_boxplot(outlier.color = adjustcolor(\"black\", alpha.f = 0), na.rm = TRUE) +\n",
    "    theme_light(base_size = 11) +\n",
    "    xlab(\"Weathersit\") +\n",
    "    ylab(\"Bikers\") +\n",
    "    ggtitle(\"\\n\") +\n",
    "    scale_fill_manual(values = c(\"#5DADE2\", \"#58D68D\", \"#E74C3C\", \"#F4D03F\"), \n",
    "        breaks = c(1, 2, 3, 4)) +\n",
    "    theme(plot.title = element_text(size = 11, face=\"bold\"))"
   ]
  },
  {
   "cell_type": "markdown",
   "id": "935f8edd",
   "metadata": {},
   "source": [
    "Logo, quanto mais aberto o tempo, mais ciclistas são atraídos."
   ]
  },
  {
   "cell_type": "markdown",
   "id": "828db784",
   "metadata": {},
   "source": [
    "## 4. Conclusões"
   ]
  },
  {
   "cell_type": "markdown",
   "id": "7162c196",
   "metadata": {},
   "source": [
    "Portanto, o dataset apresenta uma temática corriqueira e que pode fornecer várias informações interessantes a partir de visualizações e modelagens adequadas."
   ]
  },
  {
   "cell_type": "markdown",
   "id": "07104f71",
   "metadata": {},
   "source": [
    "Finalmente, uma pergunta natural que pode ser estudada mais profundamente com técnicas de Machine Learning é:"
   ]
  },
  {
   "cell_type": "markdown",
   "id": "5c7b659f",
   "metadata": {},
   "source": [
    "<b>Como modelar a quantidade total de ciclistas dadas as condições ambientais/atmosféricas locais?</b>"
   ]
  },
  {
   "cell_type": "markdown",
   "id": "b7565b90",
   "metadata": {},
   "source": [
    "## 5. Bibliografia"
   ]
  },
  {
   "cell_type": "markdown",
   "id": "45344512",
   "metadata": {},
   "source": [
    "https://ggplot2.tidyverse.org/index.html <br>\n",
    "https://ride.capitalbikeshare.com/system-data <br>\n",
    "https://www.statlearning.com/resources-second-edition <br>\n",
    "https://www.kaggle.com/datasets/bvc5283/bikeshare <br>\n",
    "https://github.com/siyuanligit/Bike-Sharing-Demand-Kaggle/blob/master/Bike%20Share%20Rental%20Analysis%20Report%20Siyuan%20Li.md"
   ]
  }
 ],
 "metadata": {
  "kernelspec": {
   "display_name": "R",
   "language": "R",
   "name": "ir"
  },
  "language_info": {
   "codemirror_mode": "r",
   "file_extension": ".r",
   "mimetype": "text/x-r-source",
   "name": "R",
   "pygments_lexer": "r",
   "version": "3.6.1"
  }
 },
 "nbformat": 4,
 "nbformat_minor": 5
}
